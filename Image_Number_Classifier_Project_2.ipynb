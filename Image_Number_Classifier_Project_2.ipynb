{
  "nbformat": 4,
  "nbformat_minor": 5,
  "metadata": {
    "kernelspec": {
      "display_name": "Python 3",
      "language": "python",
      "name": "python3"
    },
    "language_info": {
      "codemirror_mode": {
        "name": "ipython",
        "version": 3
      },
      "file_extension": ".py",
      "mimetype": "text/x-python",
      "name": "python",
      "nbconvert_exporter": "python",
      "pygments_lexer": "ipython3",
      "version": "3.9.1"
    },
    "colab": {
      "name": "Image_Number_Classifier_Project_2.ipynb",
      "provenance": [],
      "collapsed_sections": [],
      "include_colab_link": true
    }
  },
  "cells": [
    {
      "cell_type": "markdown",
      "metadata": {
        "id": "view-in-github",
        "colab_type": "text"
      },
      "source": [
        "<a href=\"https://colab.research.google.com/github/uganjha/greatlearning/blob/master/Image_Number_Classifier_Project_2.ipynb\" target=\"_parent\"><img src=\"https://colab.research.google.com/assets/colab-badge.svg\" alt=\"Open In Colab\"/></a>"
      ]
    },
    {
      "cell_type": "code",
      "metadata": {
        "id": "abstract-hearing"
      },
      "source": [
        "import pandas as pd\n",
        "import seaborn as sns\n",
        "%matplotlib inline\n",
        "import matplotlib.pyplot as plt\n",
        "import numpy as np\n",
        "from sklearn.preprocessing import StandardScaler\n",
        "import tensorflow as tf\n",
        "from tensorflow.keras.datasets import fashion_mnist\n",
        "from tensorflow.keras import Sequential\n",
        "from tensorflow.keras.layers import Dense, Dropout\n",
        "from tensorflow.keras.optimizers import RMSprop\n",
        "from tensorflow.keras.callbacks import EarlyStopping\n",
        "from tensorflow.keras.layers import BatchNormalization\n",
        "from tensorflow.keras.constraints import MaxNorm\n",
        "from tensorflow.keras.activations import relu\n",
        "from tensorflow.keras.layers import LeakyReLU\n",
        "from tensorflow.keras.optimizers import SGD\n",
        "from sklearn import metrics\n",
        "tf.random.set_seed(42)\n",
        "from sklearn.model_selection import train_test_split\n",
        "from tensorflow.keras.utils import to_categorical\n"
      ],
      "id": "abstract-hearing",
      "execution_count": 1,
      "outputs": []
    },
    {
      "cell_type": "code",
      "metadata": {
        "colab": {
          "base_uri": "https://localhost:8080/"
        },
        "id": "minute-michigan",
        "outputId": "e7b8ffaa-01ed-45a8-9cca-2067c5a84b7a"
      },
      "source": [
        "from google.colab import drive\n",
        "drive.mount('/content/drive')"
      ],
      "id": "minute-michigan",
      "execution_count": 2,
      "outputs": [
        {
          "output_type": "stream",
          "text": [
            "Mounted at /content/drive\n"
          ],
          "name": "stdout"
        }
      ]
    },
    {
      "cell_type": "code",
      "metadata": {
        "colab": {
          "base_uri": "https://localhost:8080/"
        },
        "id": "IqoSqUK2I7pG",
        "outputId": "e1d79710-6e8b-46a7-ec80-ddf33d78a401"
      },
      "source": [
        "ls"
      ],
      "id": "IqoSqUK2I7pG",
      "execution_count": 3,
      "outputs": [
        {
          "output_type": "stream",
          "text": [
            "\u001b[0m\u001b[01;34mdrive\u001b[0m/  \u001b[01;34msample_data\u001b[0m/\n"
          ],
          "name": "stdout"
        }
      ]
    },
    {
      "cell_type": "code",
      "metadata": {
        "colab": {
          "base_uri": "https://localhost:8080/"
        },
        "id": "rouW5muwKrNT",
        "outputId": "80a24142-7300-4bad-ad42-c7d807511bed"
      },
      "source": [
        "ls drive/MyDrive"
      ],
      "id": "rouW5muwKrNT",
      "execution_count": 4,
      "outputs": [
        {
          "output_type": "stream",
          "text": [
            " \u001b[0m\u001b[01;34m1\u001b[0m/\n",
            " 372359_Aug.pdf\n",
            " 372359_July.pdf\n",
            " 372359_June.pdf\n",
            " 372359_May.pdf\n",
            " 372359_Oct.pdf\n",
            " 372359_sep.pdf\n",
            " 914010046759574-12-11-2018to11-11-2019.pdf\n",
            " Aadhaar.jpg\n",
            "'Autonomous_Vehicles_SVHN_single_grey1 (1).h5'\n",
            " Autonomous_Vehicles_SVHN_single_grey1.h5\n",
            " chkAndWrite.scala\n",
            "\u001b[01;34m'Colab Notebooks'\u001b[0m/\n",
            "'Composite Credit Information.doc'\n",
            " contacs.vcf\n",
            "'Copy of Registration Form - templates.gsheet'\n",
            " EAadhaar_943203437356_11112019154646_381887.pdf\n",
            " EAadhaar_xxxxxxxx7356_11112019154150_368525.pdf\n",
            " epfo.pdf\n",
            " FaceRec.rar\n",
            "'Final Project Report all pages.docx'\n",
            "'Final Project Report all pages.docx.gdoc'\n",
            " generictest.scala\n",
            " github-recovery-codes.txt\n",
            " historage.sh\n",
            " HoldScript.zip\n",
            " HouseTax_201617.pdf\n",
            "'HouseTax_201920_H1_Receipt_192883357_28_09_2019 (1).pdf'\n",
            " HouseTax_201920_H1_Receipt_192883357_28_09_2019.pdf\n",
            "'Housing loan appn form.doc'\n",
            "'Housing loan appn form.pdf'\n",
            " IDBI-Loan-Sanction-Letter.pdf\n",
            " ieeedocformatproject.doc\n",
            " ieeedocformatproject.doc.gdoc\n",
            "'IMG_1600 ugan.JPG'\n",
            " important.zip\n",
            " Income_tax_doc_12BB.pdf\n",
            " in.gov.uidai-ADHAR-343226525406.pdf\n",
            " ITR_2017_18.pdf\n",
            " ITR_2018_19.pdf\n",
            " ITR_2019_20.pdf\n",
            " JsonParse.scala\n",
            " KathaACertificate.pdf\n",
            " KathaRecord.pdf\n",
            " KathaTransferAcknow.pdf\n",
            "'medical_documentPage 2.pdf'\n",
            " MVS_FloorPlans.PDF\n",
            " MVS-Nagu_EC-doc.pdf\n",
            " MVS-Nagu_Sale-Agreement.pdf\n",
            " MVS-Nagu_Sale-Deed.pdf\n",
            " MVS-Sale-Deed.pdf\n",
            "\u001b[01;34m'my project'\u001b[0m/\n",
            " Nagu-MVS-Shyam_deed.pdf\n",
            "'pan card.pdf'\n",
            " Passport_Back.jpeg\n",
            " Passport.jpeg\n",
            " \u001b[01;34mpgaiml-blr-jan-20\u001b[0m/\n",
            "'Scala Cookbook.pdf'\n",
            "\u001b[01;34m'Statistical Learning AIML'\u001b[0m/\n",
            " ugan36332.pdf\n",
            "'ugan_jha (1).JPG'\n",
            "'Ugan Jha_FY20_H2_Bonus_Statement.pdf'\n",
            " UganJha_IT_IEM.docx\n",
            " UganJha_IT_IEM.docx.gdoc\n",
            " UganJha_IT_Webyog.pdf\n",
            " ugan_jha.JPG\n",
            "'Untitled Document'\n",
            " unzip.sh\n",
            " \u001b[01;34mUS-Visa\u001b[0m/\n",
            " \u001b[01;34mVmware\u001b[0m/\n",
            "'WhatsApp Image 2019-11-13 at 10.32.35.jpeg'\n"
          ],
          "name": "stdout"
        }
      ]
    },
    {
      "cell_type": "code",
      "metadata": {
        "id": "VkmCIqPIKtsj"
      },
      "source": [
        "fileLocation =  'drive/MyDrive/Autonomous_Vehicles_SVHN_single_grey1.h5'\n"
      ],
      "id": "VkmCIqPIKtsj",
      "execution_count": 5,
      "outputs": []
    },
    {
      "cell_type": "code",
      "metadata": {
        "colab": {
          "base_uri": "https://localhost:8080/"
        },
        "id": "1ohvybp0OVyc",
        "outputId": "1479a955-afd5-44b9-a5fb-bf33758cdaf1"
      },
      "source": [
        "ls $fileLocation"
      ],
      "id": "1ohvybp0OVyc",
      "execution_count": 6,
      "outputs": [
        {
          "output_type": "stream",
          "text": [
            "drive/MyDrive/Autonomous_Vehicles_SVHN_single_grey1.h5\n"
          ],
          "name": "stdout"
        }
      ]
    },
    {
      "cell_type": "code",
      "metadata": {
        "id": "N2y8mKK2KvfU"
      },
      "source": [
        "\n",
        "%matplotlib inline\n",
        "import matplotlib.pyplot as plt\n",
        "import pandas as pd\n",
        "\n",
        "\n",
        "\n",
        "import tensorflow as tf\n",
        "from tensorflow.keras.datasets import fashion_mnist\n",
        "from tensorflow.keras import Sequential\n",
        "from tensorflow.keras.layers import Dense, Dropout\n",
        "from tensorflow.keras.optimizers import RMSprop\n",
        "from tensorflow.keras.callbacks import EarlyStopping\n",
        "from tensorflow.keras.layers import BatchNormalization\n",
        "from tensorflow.keras.constraints import MaxNorm\n",
        "from tensorflow.keras.activations import relu\n",
        "from tensorflow.keras.layers import LeakyReLU\n",
        "import h5py\n",
        "from sklearn import metrics"
      ],
      "id": "N2y8mKK2KvfU",
      "execution_count": 7,
      "outputs": []
    },
    {
      "cell_type": "code",
      "metadata": {
        "id": "CLIaEJlSLKgn"
      },
      "source": [
        "data = h5py.File(fileLocation, 'r')"
      ],
      "id": "CLIaEJlSLKgn",
      "execution_count": 8,
      "outputs": []
    },
    {
      "cell_type": "code",
      "metadata": {
        "colab": {
          "base_uri": "https://localhost:8080/"
        },
        "id": "Lgd4Xv8cOCWS",
        "outputId": "03db66e2-d662-4504-8796-89d108cfb944"
      },
      "source": [
        "data.keys()"
      ],
      "id": "Lgd4Xv8cOCWS",
      "execution_count": 9,
      "outputs": [
        {
          "output_type": "execute_result",
          "data": {
            "text/plain": [
              "<KeysViewHDF5 ['X_test', 'X_train', 'X_val', 'y_test', 'y_train', 'y_val']>"
            ]
          },
          "metadata": {
            "tags": []
          },
          "execution_count": 9
        }
      ]
    },
    {
      "cell_type": "code",
      "metadata": {
        "id": "6XpQC7r5OrRR"
      },
      "source": [
        "X_test,X_train,X_val,y_test,y_train,y_val = data.values()"
      ],
      "id": "6XpQC7r5OrRR",
      "execution_count": 10,
      "outputs": []
    },
    {
      "cell_type": "code",
      "metadata": {
        "colab": {
          "base_uri": "https://localhost:8080/"
        },
        "id": "9s-5LUL8PN8X",
        "outputId": "0d6451a2-fdbe-43de-e3d1-a063e6b3edf2"
      },
      "source": [
        "X_test = X_test.value\n",
        "X_train = X_train.value\n",
        "y_test = y_test.value\n",
        "y_train = y_train.value"
      ],
      "id": "9s-5LUL8PN8X",
      "execution_count": 11,
      "outputs": [
        {
          "output_type": "stream",
          "text": [
            "/usr/local/lib/python3.6/dist-packages/ipykernel_launcher.py:1: H5pyDeprecationWarning: dataset.value has been deprecated. Use dataset[()] instead.\n",
            "  \"\"\"Entry point for launching an IPython kernel.\n",
            "/usr/local/lib/python3.6/dist-packages/ipykernel_launcher.py:2: H5pyDeprecationWarning: dataset.value has been deprecated. Use dataset[()] instead.\n",
            "  \n",
            "/usr/local/lib/python3.6/dist-packages/ipykernel_launcher.py:3: H5pyDeprecationWarning: dataset.value has been deprecated. Use dataset[()] instead.\n",
            "  This is separate from the ipykernel package so we can avoid doing imports until\n",
            "/usr/local/lib/python3.6/dist-packages/ipykernel_launcher.py:4: H5pyDeprecationWarning: dataset.value has been deprecated. Use dataset[()] instead.\n",
            "  after removing the cwd from sys.path.\n"
          ],
          "name": "stderr"
        }
      ]
    },
    {
      "cell_type": "code",
      "metadata": {
        "colab": {
          "base_uri": "https://localhost:8080/"
        },
        "id": "I1hkZiuWPPp5",
        "outputId": "9b71c842-81be-4095-b082-8ea821790b9f"
      },
      "source": [
        "X_test.shape"
      ],
      "id": "I1hkZiuWPPp5",
      "execution_count": 12,
      "outputs": [
        {
          "output_type": "execute_result",
          "data": {
            "text/plain": [
              "(18000, 32, 32)"
            ]
          },
          "metadata": {
            "tags": []
          },
          "execution_count": 12
        }
      ]
    },
    {
      "cell_type": "code",
      "metadata": {
        "colab": {
          "base_uri": "https://localhost:8080/"
        },
        "id": "5gHviT7iP4IH",
        "outputId": "762463c6-cc75-4425-e842-ed105b1ae13f"
      },
      "source": [
        "X_train.shape"
      ],
      "id": "5gHviT7iP4IH",
      "execution_count": 13,
      "outputs": [
        {
          "output_type": "execute_result",
          "data": {
            "text/plain": [
              "(42000, 32, 32)"
            ]
          },
          "metadata": {
            "tags": []
          },
          "execution_count": 13
        }
      ]
    },
    {
      "cell_type": "code",
      "metadata": {
        "colab": {
          "base_uri": "https://localhost:8080/"
        },
        "id": "-VbE9ZyXP5a4",
        "outputId": "1cdb79c0-b7ab-4892-f698-5d6eba685b46"
      },
      "source": [
        "X_val.shape"
      ],
      "id": "-VbE9ZyXP5a4",
      "execution_count": 14,
      "outputs": [
        {
          "output_type": "execute_result",
          "data": {
            "text/plain": [
              "(60000, 32, 32)"
            ]
          },
          "metadata": {
            "tags": []
          },
          "execution_count": 14
        }
      ]
    },
    {
      "cell_type": "code",
      "metadata": {
        "colab": {
          "base_uri": "https://localhost:8080/"
        },
        "id": "sljn8-5AQkSM",
        "outputId": "d223b009-3eef-4a7a-dcd8-55b76146ac5f"
      },
      "source": [
        "y_train.shape"
      ],
      "id": "sljn8-5AQkSM",
      "execution_count": 15,
      "outputs": [
        {
          "output_type": "execute_result",
          "data": {
            "text/plain": [
              "(42000,)"
            ]
          },
          "metadata": {
            "tags": []
          },
          "execution_count": 15
        }
      ]
    },
    {
      "cell_type": "code",
      "metadata": {
        "colab": {
          "base_uri": "https://localhost:8080/"
        },
        "id": "koU4ADCuQrZe",
        "outputId": "0768ebe3-357a-4dd6-9cfa-ff0be772c55c"
      },
      "source": [
        "y_test.shape"
      ],
      "id": "koU4ADCuQrZe",
      "execution_count": 16,
      "outputs": [
        {
          "output_type": "execute_result",
          "data": {
            "text/plain": [
              "(18000,)"
            ]
          },
          "metadata": {
            "tags": []
          },
          "execution_count": 16
        }
      ]
    },
    {
      "cell_type": "code",
      "metadata": {
        "colab": {
          "base_uri": "https://localhost:8080/"
        },
        "id": "GbwYBhHqQtkW",
        "outputId": "afffc744-5036-48a9-8c86-b43f49f37518"
      },
      "source": [
        "y_test[0]"
      ],
      "id": "GbwYBhHqQtkW",
      "execution_count": 17,
      "outputs": [
        {
          "output_type": "execute_result",
          "data": {
            "text/plain": [
              "1"
            ]
          },
          "metadata": {
            "tags": []
          },
          "execution_count": 17
        }
      ]
    },
    {
      "cell_type": "code",
      "metadata": {
        "colab": {
          "base_uri": "https://localhost:8080/"
        },
        "id": "VmRXrevPQxvF",
        "outputId": "713e3dcc-d7be-4e73-8fb5-3fdedceac20a"
      },
      "source": [
        "y_val[2]"
      ],
      "id": "VmRXrevPQxvF",
      "execution_count": 18,
      "outputs": [
        {
          "output_type": "execute_result",
          "data": {
            "text/plain": [
              "0"
            ]
          },
          "metadata": {
            "tags": []
          },
          "execution_count": 18
        }
      ]
    },
    {
      "cell_type": "code",
      "metadata": {
        "colab": {
          "base_uri": "https://localhost:8080/",
          "height": 283
        },
        "id": "n0B6f8upQ0WJ",
        "outputId": "b3436ecc-5a7c-45ad-dc34-32fcc9cfaf90"
      },
      "source": [
        "plt.imshow(X_test[1])"
      ],
      "id": "n0B6f8upQ0WJ",
      "execution_count": 19,
      "outputs": [
        {
          "output_type": "execute_result",
          "data": {
            "text/plain": [
              "<matplotlib.image.AxesImage at 0x7eff852ef470>"
            ]
          },
          "metadata": {
            "tags": []
          },
          "execution_count": 19
        },
        {
          "output_type": "display_data",
          "data": {
            "image/png": "[encoded data removed]",
            "text/plain": [
              "<Figure size 432x288 with 1 Axes>"
            ]
          },
          "metadata": {
            "tags": [],
            "needs_background": "light"
          }
        }
      ]
    },
    {
      "cell_type": "code",
      "metadata": {
        "colab": {
          "base_uri": "https://localhost:8080/",
          "height": 283
        },
        "id": "2m1FJwcnRScQ",
        "outputId": "4bd01714-53c7-4d43-cb4e-80137fcc88f5"
      },
      "source": [
        "plt.imshow(X_test[2])"
      ],
      "id": "2m1FJwcnRScQ",
      "execution_count": 20,
      "outputs": [
        {
          "output_type": "execute_result",
          "data": {
            "text/plain": [
              "<matplotlib.image.AxesImage at 0x7eff84e47898>"
            ]
          },
          "metadata": {
            "tags": []
          },
          "execution_count": 20
        },
        {
          "output_type": "display_data",
          "data": {
            "image/png": "[encoded data removed]",
            "text/plain": [
              "<Figure size 432x288 with 1 Axes>"
            ]
          },
          "metadata": {
            "tags": [],
            "needs_background": "light"
          }
        }
      ]
    },
    {
      "cell_type": "code",
      "metadata": {
        "id": "XUfc_rQoRa0O",
        "colab": {
          "base_uri": "https://localhost:8080/",
          "height": 283
        },
        "outputId": "9e8b33f9-7f8b-4ad4-8caa-7c41e102f626"
      },
      "source": [
        "plt.imshow(X_test[1])"
      ],
      "id": "XUfc_rQoRa0O",
      "execution_count": 21,
      "outputs": [
        {
          "output_type": "execute_result",
          "data": {
            "text/plain": [
              "<matplotlib.image.AxesImage at 0x7eff84db1b00>"
            ]
          },
          "metadata": {
            "tags": []
          },
          "execution_count": 21
        },
        {
          "output_type": "display_data",
          "data": {
            "image/png": "[encoded data removed]",
            "text/plain": [
              "<Figure size 432x288 with 1 Axes>"
            ]
          },
          "metadata": {
            "tags": [],
            "needs_background": "light"
          }
        }
      ]
    },
    {
      "cell_type": "code",
      "metadata": {
        "id": "d_lxCYhdWIay"
      },
      "source": [
        "y_train = tf.keras.utils.to_categorical(y_train)\n",
        "y_test = tf.keras.utils.to_categorical(y_test)"
      ],
      "id": "d_lxCYhdWIay",
      "execution_count": 22,
      "outputs": []
    },
    {
      "cell_type": "code",
      "metadata": {
        "id": "B0aOoCqrYEqw"
      },
      "source": [
        "X_train = X_train.astype('float32')\n",
        "X_test = X_test.astype('float32')\n",
        "X_train = X_train / 255.0\n",
        "X_test = X_test / 255.0"
      ],
      "id": "B0aOoCqrYEqw",
      "execution_count": 23,
      "outputs": []
    },
    {
      "cell_type": "code",
      "metadata": {
        "id": "rKZ5oi-YWTww"
      },
      "source": [
        "def getAnnModal(numClasses):\n",
        "  model = Sequential()\n",
        "  model.add(tf.keras.layers.Flatten(input_shape=(32, 32)))    #flattens the 28X28 image into 784 element array\n",
        "\n",
        "  model.add(Dense(784, activation='relu', input_shape=(1024,)))\n",
        "  model.add(Dense(256, activation='relu'))\n",
        "  #model.add(Dropout(0.5))\n",
        "  model.add(Dense(num_classes, activation='softmax'))\n",
        "\n",
        "        \n",
        "          \n",
        "\n",
        "  for l in model.layers:\n",
        "      print (l.name, l.input_shape,'==>',l.output_shape)\n",
        "  print()\n",
        "  print (model.summary())\n",
        "  return model"
      ],
      "id": "rKZ5oi-YWTww",
      "execution_count": 24,
      "outputs": []
    },
    {
      "cell_type": "code",
      "metadata": {
        "colab": {
          "base_uri": "https://localhost:8080/"
        },
        "id": "v9YqXM10WwBa",
        "outputId": "0bacc11c-7755-467d-99bd-c3e8f1fca901"
      },
      "source": [
        "num_classes = y_train.shape[1]\n",
        "model = getAnnModal(num_classes)"
      ],
      "id": "v9YqXM10WwBa",
      "execution_count": 25,
      "outputs": [
        {
          "output_type": "stream",
          "text": [
            "flatten (None, 32, 32) ==> (None, 1024)\n",
            "dense (None, 1024) ==> (None, 784)\n",
            "dense_1 (None, 784) ==> (None, 256)\n",
            "dense_2 (None, 256) ==> (None, 10)\n",
            "\n",
            "Model: \"sequential\"\n",
            "_________________________________________________________________\n",
            "Layer (type)                 Output Shape              Param #   \n",
            "=================================================================\n",
            "flatten (Flatten)            (None, 1024)              0         \n",
            "_________________________________________________________________\n",
            "dense (Dense)                (None, 784)               803600    \n",
            "_________________________________________________________________\n",
            "dense_1 (Dense)              (None, 256)               200960    \n",
            "_________________________________________________________________\n",
            "dense_2 (Dense)              (None, 10)                2570      \n",
            "=================================================================\n",
            "Total params: 1,007,130\n",
            "Trainable params: 1,007,130\n",
            "Non-trainable params: 0\n",
            "_________________________________________________________________\n",
            "None\n"
          ],
          "name": "stdout"
        }
      ]
    },
    {
      "cell_type": "code",
      "metadata": {
        "id": "OzPYKJ37XOwe"
      },
      "source": [
        "epochs = 20\n",
        "model.compile(loss='categorical_crossentropy',  optimizer='sgd' ,  metrics=['accuracy'] , )"
      ],
      "id": "OzPYKJ37XOwe",
      "execution_count": 26,
      "outputs": []
    },
    {
      "cell_type": "code",
      "metadata": {
        "colab": {
          "base_uri": "https://localhost:8080/"
        },
        "id": "eVnKBjnTXz1J",
        "outputId": "260bb942-f181-45e7-c671-fc02da73fa84"
      },
      "source": [
        "X_test.shape"
      ],
      "id": "eVnKBjnTXz1J",
      "execution_count": 27,
      "outputs": [
        {
          "output_type": "execute_result",
          "data": {
            "text/plain": [
              "(18000, 32, 32)"
            ]
          },
          "metadata": {
            "tags": []
          },
          "execution_count": 27
        }
      ]
    },
    {
      "cell_type": "code",
      "metadata": {
        "colab": {
          "base_uri": "https://localhost:8080/"
        },
        "id": "5GMUrrfoXe8D",
        "outputId": "5818ad8b-e3e8-4cdf-befe-8ab41da86d42"
      },
      "source": [
        "\n",
        "model.fit(X_train, y_train, validation_data=(X_test, y_test), epochs=epochs, batch_size=500 )\n",
        "\n",
        "# , callbacks=callback_list\n",
        "\n",
        "# Final evaluation of the model\n",
        "scores = model.evaluate(X_test, y_test, verbose=0)\n",
        "print(\"Accuracy: %.2f%%\" % (scores[1]*100))"
      ],
      "id": "5GMUrrfoXe8D",
      "execution_count": 28,
      "outputs": [
        {
          "output_type": "stream",
          "text": [
            "Epoch 1/20\n",
            "84/84 [==============================] - 6s 62ms/step - loss: 2.3121 - accuracy: 0.1094 - val_loss: 2.2902 - val_accuracy: 0.1445\n",
            "Epoch 2/20\n",
            "84/84 [==============================] - 5s 56ms/step - loss: 2.2885 - accuracy: 0.1403 - val_loss: 2.2789 - val_accuracy: 0.1567\n",
            "Epoch 3/20\n",
            "84/84 [==============================] - 5s 57ms/step - loss: 2.2765 - accuracy: 0.1682 - val_loss: 2.2684 - val_accuracy: 0.2088\n",
            "Epoch 4/20\n",
            "84/84 [==============================] - 5s 59ms/step - loss: 2.2681 - accuracy: 0.1986 - val_loss: 2.2600 - val_accuracy: 0.2162\n",
            "Epoch 5/20\n",
            "84/84 [==============================] - 5s 58ms/step - loss: 2.2581 - accuracy: 0.2159 - val_loss: 2.2504 - val_accuracy: 0.2443\n",
            "Epoch 6/20\n",
            "84/84 [==============================] - 5s 58ms/step - loss: 2.2485 - accuracy: 0.2426 - val_loss: 2.2399 - val_accuracy: 0.2716\n",
            "Epoch 7/20\n",
            "84/84 [==============================] - 5s 58ms/step - loss: 2.2382 - accuracy: 0.2578 - val_loss: 2.2320 - val_accuracy: 0.2554\n",
            "Epoch 8/20\n",
            "84/84 [==============================] - 5s 57ms/step - loss: 2.2277 - accuracy: 0.2758 - val_loss: 2.2182 - val_accuracy: 0.2999\n",
            "Epoch 9/20\n",
            "84/84 [==============================] - 5s 57ms/step - loss: 2.2156 - accuracy: 0.2994 - val_loss: 2.2045 - val_accuracy: 0.3277\n",
            "Epoch 10/20\n",
            "84/84 [==============================] - 5s 57ms/step - loss: 2.2018 - accuracy: 0.3206 - val_loss: 2.1907 - val_accuracy: 0.3259\n",
            "Epoch 11/20\n",
            "84/84 [==============================] - 5s 56ms/step - loss: 2.1856 - accuracy: 0.3342 - val_loss: 2.1765 - val_accuracy: 0.3380\n",
            "Epoch 12/20\n",
            "84/84 [==============================] - 5s 57ms/step - loss: 2.1720 - accuracy: 0.3480 - val_loss: 2.1586 - val_accuracy: 0.3779\n",
            "Epoch 13/20\n",
            "84/84 [==============================] - 5s 57ms/step - loss: 2.1547 - accuracy: 0.3627 - val_loss: 2.1417 - val_accuracy: 0.3612\n",
            "Epoch 14/20\n",
            "84/84 [==============================] - 5s 56ms/step - loss: 2.1364 - accuracy: 0.3760 - val_loss: 2.1213 - val_accuracy: 0.3875\n",
            "Epoch 15/20\n",
            "84/84 [==============================] - 5s 56ms/step - loss: 2.1146 - accuracy: 0.3925 - val_loss: 2.1001 - val_accuracy: 0.3931\n",
            "Epoch 16/20\n",
            "84/84 [==============================] - 5s 56ms/step - loss: 2.0959 - accuracy: 0.3991 - val_loss: 2.0758 - val_accuracy: 0.4170\n",
            "Epoch 17/20\n",
            "84/84 [==============================] - 5s 56ms/step - loss: 2.0681 - accuracy: 0.4168 - val_loss: 2.0505 - val_accuracy: 0.4234\n",
            "Epoch 18/20\n",
            "84/84 [==============================] - 5s 57ms/step - loss: 2.0460 - accuracy: 0.4262 - val_loss: 2.0243 - val_accuracy: 0.4248\n",
            "Epoch 19/20\n",
            "84/84 [==============================] - 5s 57ms/step - loss: 2.0188 - accuracy: 0.4315 - val_loss: 1.9964 - val_accuracy: 0.4442\n",
            "Epoch 20/20\n",
            "84/84 [==============================] - 5s 57ms/step - loss: 1.9904 - accuracy: 0.4478 - val_loss: 1.9667 - val_accuracy: 0.4441\n",
            "Accuracy: 44.41%\n"
          ],
          "name": "stdout"
        }
      ]
    },
    {
      "cell_type": "code",
      "metadata": {
        "id": "UaORyFUCXoEt"
      },
      "source": [
        ""
      ],
      "id": "UaORyFUCXoEt",
      "execution_count": 28,
      "outputs": []
    },
    {
      "cell_type": "markdown",
      "metadata": {
        "id": "W_7lGZwu44nm"
      },
      "source": [
        "Model Seems to be undertrained as training and testing accuracy is almost similar and sometime test accuracy is more than training accuracy.Apart from that we have not applied normalization as well.\n"
      ],
      "id": "W_7lGZwu44nm"
    },
    {
      "cell_type": "code",
      "metadata": {
        "id": "-NsZQxp55DPZ"
      },
      "source": [
        "def getAnnNormalizedModal(numClasses):\n",
        "  model = Sequential()\n",
        "  model.add(tf.keras.layers.Flatten(input_shape=(32, 32)))    #flattens the 28X28 image into 784 element array\n",
        "  model.add(BatchNormalization())\n",
        "  model.add(Dense(784, activation='relu', input_shape=(1024,)))\n",
        "  model.add(Dense(256, activation='relu'))\n",
        "  #model.add(Dropout(0.5))\n",
        "  model.add(Dense(num_classes, activation='softmax'))\n",
        "\n",
        "        \n",
        "          \n",
        "\n",
        "  for l in model.layers:\n",
        "      print (l.name, l.input_shape,'==>',l.output_shape)\n",
        "  print()\n",
        "  print (model.summary())\n",
        "  return model\n"
      ],
      "id": "-NsZQxp55DPZ",
      "execution_count": 29,
      "outputs": []
    },
    {
      "cell_type": "code",
      "metadata": {
        "colab": {
          "base_uri": "https://localhost:8080/"
        },
        "id": "L9yVwkjM5Q19",
        "outputId": "8e1d9564-1e5e-4614-f9c3-5e9a61e334a2"
      },
      "source": [
        "num_classes = y_train.shape[1]\n",
        "model = getAnnNormalizedModal(num_classes)\n",
        "epochs = 40\n",
        "model.compile(loss='categorical_crossentropy',  optimizer='sgd' ,  metrics=['accuracy'] , )\n",
        "history = model.fit(X_train, y_train, validation_data=(X_test, y_test), epochs=epochs, batch_size=500 )\n",
        "print(history.history.keys())\n",
        "#  \"Accuracy\"\n",
        "\n",
        "# , callbacks=callback_list\n",
        "\n",
        "# Final evaluation of the model\n",
        "scores = model.evaluate(X_test, y_test, verbose=0)\n",
        "print(\"Accuracy: %.2f%%\" % (scores[1]*100))"
      ],
      "id": "L9yVwkjM5Q19",
      "execution_count": null,
      "outputs": [
        {
          "output_type": "stream",
          "text": [
            "flatten_1 (None, 32, 32) ==> (None, 1024)\n",
            "batch_normalization (None, 1024) ==> (None, 1024)\n",
            "dense_3 (None, 1024) ==> (None, 784)\n",
            "dense_4 (None, 784) ==> (None, 256)\n",
            "dense_5 (None, 256) ==> (None, 10)\n",
            "\n",
            "Model: \"sequential_1\"\n",
            "_________________________________________________________________\n",
            "Layer (type)                 Output Shape              Param #   \n",
            "=================================================================\n",
            "flatten_1 (Flatten)          (None, 1024)              0         \n",
            "_________________________________________________________________\n",
            "batch_normalization (BatchNo (None, 1024)              4096      \n",
            "_________________________________________________________________\n",
            "dense_3 (Dense)              (None, 784)               803600    \n",
            "_________________________________________________________________\n",
            "dense_4 (Dense)              (None, 256)               200960    \n",
            "_________________________________________________________________\n",
            "dense_5 (Dense)              (None, 10)                2570      \n",
            "=================================================================\n",
            "Total params: 1,011,226\n",
            "Trainable params: 1,009,178\n",
            "Non-trainable params: 2,048\n",
            "_________________________________________________________________\n",
            "None\n",
            "Epoch 1/40\n",
            "84/84 [==============================] - 7s 81ms/step - loss: 2.3505 - accuracy: 0.1421 - val_loss: 2.2449 - val_accuracy: 0.2482\n",
            "Epoch 2/40\n",
            "84/84 [==============================] - 7s 78ms/step - loss: 2.0837 - accuracy: 0.3024 - val_loss: 2.1227 - val_accuracy: 0.3897\n",
            "Epoch 3/40\n",
            "84/84 [==============================] - 7s 79ms/step - loss: 1.9107 - accuracy: 0.4033 - val_loss: 1.9522 - val_accuracy: 0.4698\n",
            "Epoch 4/40\n",
            "84/84 [==============================] - 7s 79ms/step - loss: 1.7494 - accuracy: 0.4868 - val_loss: 1.7566 - val_accuracy: 0.5254\n",
            "Epoch 5/40\n",
            "84/84 [==============================] - 7s 79ms/step - loss: 1.6060 - accuracy: 0.5364 - val_loss: 1.5761 - val_accuracy: 0.5724\n",
            "Epoch 6/40\n",
            "84/84 [==============================] - 7s 79ms/step - loss: 1.4797 - accuracy: 0.5848 - val_loss: 1.4347 - val_accuracy: 0.6085\n",
            "Epoch 7/40\n",
            "84/84 [==============================] - 7s 79ms/step - loss: 1.3782 - accuracy: 0.6192 - val_loss: 1.3337 - val_accuracy: 0.6301\n",
            "Epoch 8/40\n",
            "84/84 [==============================] - 7s 79ms/step - loss: 1.2869 - accuracy: 0.6441 - val_loss: 1.2489 - val_accuracy: 0.6535\n",
            "Epoch 9/40\n",
            "84/84 [==============================] - 7s 79ms/step - loss: 1.2189 - accuracy: 0.6629 - val_loss: 1.1862 - val_accuracy: 0.6709\n",
            "Epoch 10/40\n",
            "84/84 [==============================] - 7s 79ms/step - loss: 1.1584 - accuracy: 0.6789 - val_loss: 1.1362 - val_accuracy: 0.6813\n",
            "Epoch 11/40\n",
            "84/84 [==============================] - 7s 78ms/step - loss: 1.1045 - accuracy: 0.6906 - val_loss: 1.0959 - val_accuracy: 0.6923\n",
            "Epoch 12/40\n",
            "84/84 [==============================] - 7s 79ms/step - loss: 1.0655 - accuracy: 0.7046 - val_loss: 1.0604 - val_accuracy: 0.7014\n",
            "Epoch 13/40\n",
            "84/84 [==============================] - 7s 79ms/step - loss: 1.0359 - accuracy: 0.7083 - val_loss: 1.0293 - val_accuracy: 0.7079\n",
            "Epoch 14/40\n",
            "84/84 [==============================] - 7s 79ms/step - loss: 0.9906 - accuracy: 0.7206 - val_loss: 1.0032 - val_accuracy: 0.7144\n",
            "Epoch 15/40\n",
            "84/84 [==============================] - 7s 79ms/step - loss: 0.9648 - accuracy: 0.7314 - val_loss: 0.9795 - val_accuracy: 0.7189\n",
            "Epoch 16/40\n",
            "84/84 [==============================] - 7s 79ms/step - loss: 0.9451 - accuracy: 0.7310 - val_loss: 0.9573 - val_accuracy: 0.7254\n",
            "Epoch 17/40\n",
            "84/84 [==============================] - 7s 79ms/step - loss: 0.9186 - accuracy: 0.7386 - val_loss: 0.9407 - val_accuracy: 0.7307\n",
            "Epoch 18/40\n",
            "84/84 [==============================] - 7s 79ms/step - loss: 0.8993 - accuracy: 0.7453 - val_loss: 0.9206 - val_accuracy: 0.7374\n",
            "Epoch 19/40\n",
            "84/84 [==============================] - 7s 79ms/step - loss: 0.8847 - accuracy: 0.7505 - val_loss: 0.9055 - val_accuracy: 0.7407\n",
            "Epoch 20/40\n",
            "84/84 [==============================] - 7s 82ms/step - loss: 0.8588 - accuracy: 0.7561 - val_loss: 0.8890 - val_accuracy: 0.7446\n",
            "Epoch 21/40\n",
            "84/84 [==============================] - 7s 80ms/step - loss: 0.8393 - accuracy: 0.7608 - val_loss: 0.8747 - val_accuracy: 0.7504\n",
            "Epoch 22/40\n",
            "84/84 [==============================] - 7s 79ms/step - loss: 0.8334 - accuracy: 0.7631 - val_loss: 0.8635 - val_accuracy: 0.7509\n",
            "Epoch 23/40\n",
            "84/84 [==============================] - 7s 80ms/step - loss: 0.8040 - accuracy: 0.7734 - val_loss: 0.8501 - val_accuracy: 0.7567\n",
            "Epoch 24/40\n",
            "84/84 [==============================] - 7s 79ms/step - loss: 0.7958 - accuracy: 0.7755 - val_loss: 0.8404 - val_accuracy: 0.7578\n",
            "Epoch 25/40\n",
            "84/84 [==============================] - ETA: 0s - loss: 0.7757 - accuracy: 0.7819"
          ],
          "name": "stdout"
        }
      ]
    },
    {
      "cell_type": "code",
      "metadata": {
        "id": "vIkkqrb-5ba1"
      },
      "source": [
        "plt.plot(history.history['accuracy'])\n",
        "plt.plot(history.history['val_accuracy'])\n",
        "plt.ylabel('accuracy')\n",
        "plt.xlabel('epoch')\n",
        "plt.legend(['train', 'validation'], loc='upper left')\n",
        "plt.show()\n",
        "# \"Loss\"\n",
        "plt.plot(history.history['loss'])\n",
        "plt.plot(history.history['val_loss'])\n",
        "plt.ylabel('loss')\n",
        "plt.xlabel('epoch')\n",
        "plt.legend(['train', 'validation'], loc='upper left')\n",
        "plt.show()"
      ],
      "id": "vIkkqrb-5ba1",
      "execution_count": null,
      "outputs": []
    },
    {
      "cell_type": "markdown",
      "metadata": {
        "id": "6p-3eKTJ9JIw"
      },
      "source": [
        ""
      ],
      "id": "6p-3eKTJ9JIw"
    },
    {
      "cell_type": "markdown",
      "metadata": {
        "id": "gqaBje939MB0"
      },
      "source": [
        "It is clear after epoch value of 25 accuracy for testing data started decreasing comparing to test data but accuracy of test data is still increasign so we can increase epoch more ."
      ],
      "id": "gqaBje939MB0"
    },
    {
      "cell_type": "code",
      "metadata": {
        "id": "WgiJASxx9itz"
      },
      "source": [
        "num_classes = y_train.shape[1]\n",
        "model = getAnnNormalizedModal(num_classes)\n",
        "epochs = 60\n",
        "model.compile(loss='categorical_crossentropy',  optimizer='sgd' ,  metrics=['accuracy'] , )\n",
        "history = model.fit(X_train, y_train, validation_data=(X_test, y_test), epochs=epochs, batch_size=500 )\n",
        "print(history.history.keys())\n",
        "#  \"Accuracy\"\n",
        "\n",
        "# , callbacks=callback_list\n",
        "\n",
        "# Final evaluation of the model\n",
        "scores = model.evaluate(X_test, y_test, verbose=0)\n",
        "print(\"Accuracy: %.2f%%\" % (scores[1]*100))"
      ],
      "id": "WgiJASxx9itz",
      "execution_count": null,
      "outputs": []
    },
    {
      "cell_type": "code",
      "metadata": {
        "colab": {
          "base_uri": "https://localhost:8080/",
          "height": 544
        },
        "id": "_scdNU499nyU",
        "outputId": "31e84130-f77e-4a39-f79f-4f35bb479a5f"
      },
      "source": [
        "plt.plot(history.history['accuracy'])\n",
        "plt.plot(history.history['val_accuracy'])\n",
        "plt.ylabel('accuracy')\n",
        "plt.xlabel('epoch')\n",
        "plt.legend(['train', 'validation'], loc='upper left')\n",
        "plt.show()\n",
        "# \"Loss\"\n",
        "plt.plot(history.history['loss'])\n",
        "plt.plot(history.history['val_loss'])\n",
        "plt.ylabel('loss')\n",
        "plt.xlabel('epoch')\n",
        "plt.legend(['train', 'validation'], loc='upper left')\n",
        "plt.show()"
      ],
      "id": "_scdNU499nyU",
      "execution_count": 34,
      "outputs": [
        {
          "output_type": "display_data",
          "data": {
            "image/png": "[encoded data removed]",
            "text/plain": [
              "<Figure size 432x288 with 1 Axes>"
            ]
          },
          "metadata": {
            "tags": [],
            "needs_background": "light"
          }
        },
        {
          "output_type": "display_data",
          "data": {
            "image/png": "[encoded data removed]",
            "text/plain": [
              "<Figure size 432x288 with 1 Axes>"
            ]
          },
          "metadata": {
            "tags": [],
            "needs_background": "light"
          }
        }
      ]
    },
    {
      "cell_type": "code",
      "metadata": {
        "id": "-dn0nn7Xj8s8"
      },
      "source": [
        ""
      ],
      "id": "-dn0nn7Xj8s8",
      "execution_count": null,
      "outputs": []
    }
  ]
}